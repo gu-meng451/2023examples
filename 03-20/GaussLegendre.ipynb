{
 "cells": [
  {
   "attachments": {},
   "cell_type": "markdown",
   "metadata": {},
   "source": [
    "# Gauss-Legendre Quadrature\n",
    "By T. Fitzgerald\n",
    "\n",
    "This is the simple approach to derive 1 and 2 point GL quadrature formula on the standard interval\n",
    "$$ \\int_{-1}^{1} f(x) dx $$\n",
    "\n",
    "## The 1-point rule"
   ]
  },
  {
   "cell_type": "code",
   "execution_count": 1,
   "metadata": {},
   "outputs": [
    {
     "name": "stderr",
     "output_type": "stream",
     "text": [
      "\u001b[32m\u001b[1m  Activating\u001b[22m\u001b[39m project at `c:\\Users\\tim\\Documents\\2023examples\\03-10`\n"
     ]
    },
    {
     "data": {
      "text/plain": [
       "f (generic function with 1 method)"
      ]
     },
     "metadata": {},
     "output_type": "display_data"
    }
   ],
   "source": [
    "using Pkg; Pkg.activate(\".\")\n",
    "using SymPy\n",
    "@vars A B x x1 w1 f1\n",
    "f(x) = A*x + B"
   ]
  },
  {
   "cell_type": "code",
   "execution_count": 2,
   "metadata": {},
   "outputs": [
    {
     "data": {
      "text/latex": [
       "$- 2 B + w_{1} \\left(A x_{1} + B\\right)$"
      ],
      "text/plain": [
       "-2*B + w1*(A*x1 + B)"
      ]
     },
     "metadata": {},
     "output_type": "display_data"
    }
   ],
   "source": [
    "eq1 = w1*f(x1) - integrate( f(x), (x,-1,1) )"
   ]
  },
  {
   "cell_type": "code",
   "execution_count": 3,
   "metadata": {},
   "outputs": [
    {
     "data": {
      "text/latex": [
       "$\\left[ \\begin{array}{r}w_{1} x_{1}\\\\w_{1} - 2\\end{array} \\right]$\n"
      ],
      "text/plain": [
       "2-element Vector{Sym}:\n",
       "  w1*x1\n",
       " w1 - 2"
      ]
     },
     "metadata": {},
     "output_type": "display_data"
    }
   ],
   "source": [
    "eq1_set = [ diff(eq1,c) for c in [A,B] ]"
   ]
  },
  {
   "cell_type": "code",
   "execution_count": 4,
   "metadata": {},
   "outputs": [
    {
     "data": {
      "text/plain": [
       "Dict{Any, Any} with 2 entries:\n",
       "  x1 => 0\n",
       "  w1 => 2"
      ]
     },
     "metadata": {},
     "output_type": "display_data"
    }
   ],
   "source": [
    "sol1 = solve( eq1_set, [w1,x1], dict=true )[1]"
   ]
  },
  {
   "attachments": {},
   "cell_type": "markdown",
   "metadata": {},
   "source": [
    "## The 2-point rule\n",
    "With 2 points we have 2 nodes and 2 weights for 4 unknowns.  This means we can start with a polynomial with 4 coefficients."
   ]
  },
  {
   "cell_type": "code",
   "execution_count": 5,
   "metadata": {},
   "outputs": [
    {
     "data": {
      "text/plain": [
       "f (generic function with 1 method)"
      ]
     },
     "metadata": {},
     "output_type": "display_data"
    }
   ],
   "source": [
    "@vars A B C D x x1 x2 w1 w2\n",
    "f(x) = A * x^3 + B*x^2 + C*x + D"
   ]
  },
  {
   "cell_type": "code",
   "execution_count": 6,
   "metadata": {},
   "outputs": [
    {
     "data": {
      "text/latex": [
       "$- \\frac{2 B}{3} - 2 D + w_{1} \\left(A x_{1}^{3} + B x_{1}^{2} + C x_{1} + D\\right) + w_{2} \\left(A x_{2}^{3} + B x_{2}^{2} + C x_{2} + D\\right)$"
      ],
      "text/plain": [
       "  2*B            /    3       2           \\      /    3       2           \\\n",
       "- --- - 2*D + w1*\\A*x1  + B*x1  + C*x1 + D/ + w2*\\A*x2  + B*x2  + C*x2 + D/\n",
       "   3                                                                       "
      ]
     },
     "metadata": {},
     "output_type": "display_data"
    }
   ],
   "source": [
    "eq2 = ( w1 * f(x1) + w2 * f(x2) ) - integrate(f(x), (x, -1, 1))"
   ]
  },
  {
   "cell_type": "code",
   "execution_count": 7,
   "metadata": {},
   "outputs": [
    {
     "data": {
      "text/latex": [
       "$\\left[ \\begin{array}{r}w_{1} x_{1}^{3} + w_{2} x_{2}^{3}\\\\w_{1} x_{1}^{2} + w_{2} x_{2}^{2} - \\frac{2}{3}\\\\w_{1} x_{1} + w_{2} x_{2}\\\\w_{1} + w_{2} - 2\\end{array} \\right]$\n"
      ],
      "text/plain": [
       "4-element Vector{Sym}:\n",
       "       w1*x1^3 + w2*x2^3\n",
       " w1*x1^2 + w2*x2^2 - 2/3\n",
       "           w1*x1 + w2*x2\n",
       "             w1 + w2 - 2"
      ]
     },
     "metadata": {},
     "output_type": "display_data"
    }
   ],
   "source": [
    "eq2_set = [diff(eq2, c) for c in [A, B, C, D]]"
   ]
  },
  {
   "cell_type": "code",
   "execution_count": 8,
   "metadata": {},
   "outputs": [
    {
     "data": {
      "text/plain": [
       "Dict{Any, Any} with 4 entries:\n",
       "  w2 => 1\n",
       "  x2 => sqrt(3)/3\n",
       "  x1 => -sqrt(3)/3\n",
       "  w1 => 1"
      ]
     },
     "metadata": {},
     "output_type": "display_data"
    }
   ],
   "source": [
    "sol2 = solve(eq2_set, [w1, x1, w2, x2], dict=true)[1]"
   ]
  },
  {
   "cell_type": "code",
   "execution_count": 9,
   "metadata": {},
   "outputs": [],
   "source": []
  }
 ],
 "metadata": {
  "kernelspec": {
   "display_name": "Julia 1.8.5",
   "language": "julia",
   "name": "julia-1.8"
  },
  "language_info": {
   "file_extension": ".jl",
   "mimetype": "application/julia",
   "name": "julia",
   "version": "1.8.5"
  },
  "orig_nbformat": 4
 },
 "nbformat": 4,
 "nbformat_minor": 2
}

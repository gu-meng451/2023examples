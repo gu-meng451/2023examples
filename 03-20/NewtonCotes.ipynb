{
 "cells": [
  {
   "attachments": {},
   "cell_type": "markdown",
   "metadata": {},
   "source": [
    "# Closed Newton-Cotes Formula\n",
    "By T. Fitzgerald"
   ]
  },
  {
   "cell_type": "code",
   "execution_count": 2,
   "metadata": {},
   "outputs": [
    {
     "name": "stderr",
     "output_type": "stream",
     "text": [
      "\u001b[32m\u001b[1m  Activating\u001b[22m\u001b[39m project at `c:\\Users\\tim\\Documents\\2023examples\\03-10`"
     ]
    },
    {
     "name": "stderr",
     "output_type": "stream",
     "text": [
      "\n"
     ]
    }
   ],
   "source": [
    "using Pkg; Pkg.activate(\".\")\n",
    "using SymPy"
   ]
  },
  {
   "cell_type": "code",
   "execution_count": 10,
   "metadata": {},
   "outputs": [
    {
     "name": "stderr",
     "output_type": "stream",
     "text": [
      "WARNING: replacing module LagrangeInterp.\n"
     ]
    },
    {
     "data": {
      "text/plain": [
       "Main.LagrangeInterp"
      ]
     },
     "metadata": {},
     "output_type": "display_data"
    }
   ],
   "source": [
    "include(\"../03-08/LagrangeInterp.jl\")"
   ]
  },
  {
   "cell_type": "code",
   "execution_count": 24,
   "metadata": {},
   "outputs": [
    {
     "data": {
      "text/plain": [
       "(f1, f2, f3, f4)"
      ]
     },
     "metadata": {},
     "output_type": "display_data"
    }
   ],
   "source": [
    "@vars x1 x2 x3 x4 x h\n",
    "@vars f1 f2 f3 f4"
   ]
  },
  {
   "attachments": {},
   "cell_type": "markdown",
   "metadata": {},
   "source": [
    "## The Trap Rule"
   ]
  },
  {
   "cell_type": "code",
   "execution_count": 25,
   "metadata": {},
   "outputs": [
    {
     "data": {
      "text/latex": [
       "$\\frac{f_{1} \\left(x - x_{2}\\right)}{x_{1} - x_{2}} + \\frac{f_{2} \\left(x - x_{1}\\right)}{- x_{1} + x_{2}}$"
      ],
      "text/plain": [
       "f1*(x - x2)   f2*(x - x1)\n",
       "----------- + -----------\n",
       "  x1 - x2       -x1 + x2 "
      ]
     },
     "metadata": {},
     "output_type": "display_data"
    }
   ],
   "source": [
    "L1 = LagrangeInterp.interp([x1, x2], [f1, f2])\n",
    "L1(x)"
   ]
  },
  {
   "cell_type": "code",
   "execution_count": 39,
   "metadata": {},
   "outputs": [
    {
     "data": {
      "text/latex": [
       "$- \\frac{f_{1} x_{1}}{2} + \\frac{f_{1} x_{2}}{2} - \\frac{f_{2} x_{1}}{2} + \\frac{f_{2} x_{2}}{2}$"
      ],
      "text/plain": [
       "  f1*x1   f1*x2   f2*x1   f2*x2\n",
       "- ----- + ----- - ----- + -----\n",
       "    2       2       2       2  "
      ]
     },
     "metadata": {},
     "output_type": "display_data"
    }
   ],
   "source": [
    "I_trap = integrate( L1(x), (x,x1,x2)) |> simplify"
   ]
  },
  {
   "cell_type": "code",
   "execution_count": 41,
   "metadata": {},
   "outputs": [
    {
     "data": {
      "text/latex": [
       "$f_{1} \\left(- \\frac{x_{1}}{2} + \\frac{x_{2}}{2}\\right) + f_{2} \\left(- \\frac{x_{1}}{2} + \\frac{x_{2}}{2}\\right)$"
      ],
      "text/plain": [
       "   /  x1   x2\\      /  x1   x2\\\n",
       "f1*|- -- + --| + f2*|- -- + --|\n",
       "   \\  2    2 /      \\  2    2 /"
      ]
     },
     "metadata": {},
     "output_type": "display_data"
    }
   ],
   "source": [
    "collect( collect( I_trap, f1), f2)"
   ]
  },
  {
   "cell_type": "code",
   "execution_count": 23,
   "metadata": {},
   "outputs": [
    {
     "data": {
      "text/latex": [
       "$\\frac{h \\left(f_{1} + f_{2}\\right)}{2}$"
      ],
      "text/plain": [
       "h*(f1 + f2)\n",
       "-----------\n",
       "     2     "
      ]
     },
     "metadata": {},
     "output_type": "display_data"
    }
   ],
   "source": [
    "I_trap |> subs(x2=>x1+h) |> simplify"
   ]
  },
  {
   "attachments": {},
   "cell_type": "markdown",
   "metadata": {},
   "source": [
    "## Simpson's Rule"
   ]
  },
  {
   "cell_type": "code",
   "execution_count": 26,
   "metadata": {},
   "outputs": [
    {
     "data": {
      "text/latex": [
       "$\\frac{f_{1} \\left(x - x_{2}\\right) \\left(x - x_{3}\\right)}{\\left(x_{1} - x_{2}\\right) \\left(x_{1} - x_{3}\\right)} + \\frac{f_{2} \\left(x - x_{1}\\right) \\left(x - x_{3}\\right)}{\\left(- x_{1} + x_{2}\\right) \\left(x_{2} - x_{3}\\right)} + \\frac{f_{3} \\left(x - x_{1}\\right) \\left(x - x_{2}\\right)}{\\left(- x_{1} + x_{3}\\right) \\left(- x_{2} + x_{3}\\right)}$"
      ],
      "text/plain": [
       "f1*(x - x2)*(x - x3)   f2*(x - x1)*(x - x3)    f3*(x - x1)*(x - x2)\n",
       "-------------------- + -------------------- + ---------------------\n",
       "(x1 - x2)*(x1 - x3)    (-x1 + x2)*(x2 - x3)   (-x1 + x3)*(-x2 + x3)"
      ]
     },
     "metadata": {},
     "output_type": "display_data"
    }
   ],
   "source": [
    "L2 = LagrangeInterp.interp([x1, x2, x3], [f1, f2, f3])\n",
    "L2(x)"
   ]
  },
  {
   "cell_type": "code",
   "execution_count": 29,
   "metadata": {},
   "outputs": [
    {
     "data": {
      "text/latex": [
       "$- \\frac{x_{1}^{3} \\left(f_{1} x_{2} - f_{1} x_{3} - f_{2} x_{1} + f_{2} x_{3} + f_{3} x_{1} - f_{3} x_{2}\\right)}{3 x_{1}^{2} x_{2} - 3 x_{1}^{2} x_{3} - 3 x_{1} x_{2}^{2} + 3 x_{1} x_{3}^{2} + 3 x_{2}^{2} x_{3} - 3 x_{2} x_{3}^{2}} - \\frac{x_{1}^{2} \\left(- f_{1} x_{2}^{2} + f_{1} x_{3}^{2} + f_{2} x_{1}^{2} - f_{2} x_{3}^{2} - f_{3} x_{1}^{2} + f_{3} x_{2}^{2}\\right)}{2 x_{1}^{2} x_{2} - 2 x_{1}^{2} x_{3} - 2 x_{1} x_{2}^{2} + 2 x_{1} x_{3}^{2} + 2 x_{2}^{2} x_{3} - 2 x_{2} x_{3}^{2}} - \\frac{x_{1} \\left(f_{1} x_{2}^{2} x_{3} - f_{1} x_{2} x_{3}^{2} - f_{2} x_{1}^{2} x_{3} + f_{2} x_{1} x_{3}^{2} + f_{3} x_{1}^{2} x_{2} - f_{3} x_{1} x_{2}^{2}\\right)}{x_{1}^{2} x_{2} - x_{1}^{2} x_{3} - x_{1} x_{2}^{2} + x_{1} x_{3}^{2} + x_{2}^{2} x_{3} - x_{2} x_{3}^{2}} + \\frac{x_{3}^{3} \\left(f_{1} x_{2} - f_{1} x_{3} - f_{2} x_{1} + f_{2} x_{3} + f_{3} x_{1} - f_{3} x_{2}\\right)}{3 x_{1}^{2} x_{2} - 3 x_{1}^{2} x_{3} - 3 x_{1} x_{2}^{2} + 3 x_{1} x_{3}^{2} + 3 x_{2}^{2} x_{3} - 3 x_{2} x_{3}^{2}} + \\frac{x_{3}^{2} \\left(- f_{1} x_{2}^{2} + f_{1} x_{3}^{2} + f_{2} x_{1}^{2} - f_{2} x_{3}^{2} - f_{3} x_{1}^{2} + f_{3} x_{2}^{2}\\right)}{2 x_{1}^{2} x_{2} - 2 x_{1}^{2} x_{3} - 2 x_{1} x_{2}^{2} + 2 x_{1} x_{3}^{2} + 2 x_{2}^{2} x_{3} - 2 x_{2} x_{3}^{2}} + \\frac{x_{3} \\left(f_{1} x_{2}^{2} x_{3} - f_{1} x_{2} x_{3}^{2} - f_{2} x_{1}^{2} x_{3} + f_{2} x_{1} x_{3}^{2} + f_{3} x_{1}^{2} x_{2} - f_{3} x_{1} x_{2}^{2}\\right)}{x_{1}^{2} x_{2} - x_{1}^{2} x_{3} - x_{1} x_{2}^{2} + x_{1} x_{3}^{2} + x_{2}^{2} x_{3} - x_{2} x_{3}^{2}}$"
      ],
      "text/plain": [
       "          3                                                             2 /   \n",
       "        x1 *(f1*x2 - f1*x3 - f2*x1 + f2*x3 + f3*x1 - f3*x2)           x1 *\\- f\n",
       "- --------------------------------------------------------------- - ----------\n",
       "      2          2             2          2       2             2       2     \n",
       "  3*x1 *x2 - 3*x1 *x3 - 3*x1*x2  + 3*x1*x3  + 3*x2 *x3 - 3*x2*x3    2*x1 *x2 -\n",
       "\n",
       "    2        2        2        2        2        2\\        /     2            \n",
       "1*x2  + f1*x3  + f2*x1  - f2*x3  - f3*x1  + f3*x2 /     x1*\\f1*x2 *x3 - f1*x2*\n",
       "----------------------------------------------------- - ----------------------\n",
       "     2             2          2       2             2                2        \n",
       " 2*x1 *x3 - 2*x1*x2  + 2*x1*x3  + 2*x2 *x3 - 2*x2*x3               x1 *x2 - x1\n",
       "\n",
       "  2        2              2        2              2\\           3              \n",
       "x3  - f2*x1 *x3 + f2*x1*x3  + f3*x1 *x2 - f3*x1*x2 /         x3 *(f1*x2 - f1*x\n",
       "---------------------------------------------------- + -----------------------\n",
       "2           2        2     2           2                   2          2       \n",
       " *x3 - x1*x2  + x1*x3  + x2 *x3 - x2*x3                3*x1 *x2 - 3*x1 *x3 - 3\n",
       "\n",
       "                                               2 /       2        2        2  \n",
       "3 - f2*x1 + f2*x3 + f3*x1 - f3*x2)           x3 *\\- f1*x2  + f1*x3  + f2*x1  -\n",
       "---------------------------------------- + -----------------------------------\n",
       "      2          2       2             2       2          2             2     \n",
       "*x1*x2  + 3*x1*x3  + 3*x2 *x3 - 3*x2*x3    2*x1 *x2 - 2*x1 *x3 - 2*x1*x2  + 2*\n",
       "\n",
       "      2        2        2\\        /     2              2        2             \n",
       " f2*x3  - f3*x1  + f3*x2 /     x3*\\f1*x2 *x3 - f1*x2*x3  - f2*x1 *x3 + f2*x1*x\n",
       "---------------------------- + -----------------------------------------------\n",
       "     2       2             2                2        2           2        2   \n",
       "x1*x3  + 2*x2 *x3 - 2*x2*x3               x1 *x2 - x1 *x3 - x1*x2  + x1*x3  + \n",
       "\n",
       " 2        2              2\\\n",
       "3  + f3*x1 *x2 - f3*x1*x2 /\n",
       "---------------------------\n",
       "  2           2            \n",
       "x2 *x3 - x2*x3             "
      ]
     },
     "metadata": {},
     "output_type": "display_data"
    }
   ],
   "source": [
    "I_simp = integrate(L2(x), (x,x1,x3) )"
   ]
  },
  {
   "attachments": {},
   "cell_type": "markdown",
   "metadata": {},
   "source": [
    "Wow, that's ugly.  But let's recall that the total segment is $h$ and place $x_2$ at the midpoint:\n"
   ]
  },
  {
   "cell_type": "code",
   "execution_count": 32,
   "metadata": {},
   "outputs": [
    {
     "data": {
      "text/latex": [
       "$\\frac{h \\left(f_{1} + 4 f_{2} + f_{3}\\right)}{6}$"
      ],
      "text/plain": [
       "h*(f1 + 4*f2 + f3)\n",
       "------------------\n",
       "        6         "
      ]
     },
     "metadata": {},
     "output_type": "display_data"
    }
   ],
   "source": [
    "I_simp |> subs( x2=> x1 + h/2, x3=> x1+h) |> simplify"
   ]
  },
  {
   "attachments": {},
   "cell_type": "markdown",
   "metadata": {},
   "source": [
    "## Simpson 3/8 Rule"
   ]
  },
  {
   "cell_type": "code",
   "execution_count": 36,
   "metadata": {},
   "outputs": [
    {
     "data": {
      "text/latex": [
       "$\\frac{f_{1} \\left(x - x_{2}\\right) \\left(x - x_{3}\\right) \\left(x - x_{4}\\right)}{\\left(x_{1} - x_{2}\\right) \\left(x_{1} - x_{3}\\right) \\left(x_{1} - x_{4}\\right)} + \\frac{f_{2} \\left(x - x_{1}\\right) \\left(x - x_{3}\\right) \\left(x - x_{4}\\right)}{\\left(- x_{1} + x_{2}\\right) \\left(x_{2} - x_{3}\\right) \\left(x_{2} - x_{4}\\right)} + \\frac{f_{3} \\left(x - x_{1}\\right) \\left(x - x_{2}\\right) \\left(x - x_{4}\\right)}{\\left(- x_{1} + x_{3}\\right) \\left(- x_{2} + x_{3}\\right) \\left(x_{3} - x_{4}\\right)} + \\frac{f_{4} \\left(x - x_{1}\\right) \\left(x - x_{2}\\right) \\left(x - x_{3}\\right)}{\\left(- x_{1} + x_{4}\\right) \\left(- x_{2} + x_{4}\\right) \\left(- x_{3} + x_{4}\\right)}$"
      ],
      "text/plain": [
       "f1*(x - x2)*(x - x3)*(x - x4)   f2*(x - x1)*(x - x3)*(x - x4)     f3*(x - x1)*\n",
       "----------------------------- + ------------------------------ + -------------\n",
       "(x1 - x2)*(x1 - x3)*(x1 - x4)   (-x1 + x2)*(x2 - x3)*(x2 - x4)   (-x1 + x3)*(-\n",
       "\n",
       "(x - x2)*(x - x4)     f4*(x - x1)*(x - x2)*(x - x3)  \n",
       "------------------ + --------------------------------\n",
       "x2 + x3)*(x3 - x4)   (-x1 + x4)*(-x2 + x4)*(-x3 + x4)"
      ]
     },
     "metadata": {},
     "output_type": "display_data"
    }
   ],
   "source": [
    "L3 = LagrangeInterp.interp([x1, x2, x3, x4], [f1, f2, f3, f4])\n",
    "L3(x)"
   ]
  },
  {
   "cell_type": "code",
   "execution_count": 38,
   "metadata": {},
   "outputs": [
    {
     "data": {
      "text/latex": [
       "$\\frac{h \\left(f_{1} + 3 f_{2} + 3 f_{3} + f_{4}\\right)}{8}$"
      ],
      "text/plain": [
       "h*(f1 + 3*f2 + 3*f3 + f4)\n",
       "-------------------------\n",
       "            8            "
      ]
     },
     "metadata": {},
     "output_type": "display_data"
    }
   ],
   "source": [
    "I_simp38 = integrate( L3(x), (x, x1, x4) )\n",
    "I_simp38 |> subs(x2 => x1 + h / 3, x3 => x1 + 2h/3, x4=> x1+h) |> simplify"
   ]
  },
  {
   "cell_type": "code",
   "execution_count": null,
   "metadata": {},
   "outputs": [],
   "source": []
  }
 ],
 "metadata": {
  "kernelspec": {
   "display_name": "Julia 1.8.5",
   "language": "julia",
   "name": "julia-1.8"
  },
  "language_info": {
   "file_extension": ".jl",
   "mimetype": "application/julia",
   "name": "julia",
   "version": "1.8.5"
  },
  "orig_nbformat": 4
 },
 "nbformat": 4,
 "nbformat_minor": 2
}
